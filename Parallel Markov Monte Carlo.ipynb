{
 "cells": [
  {
   "cell_type": "markdown",
   "id": "66aedd08-e133-4153-89de-7453dd434bdb",
   "metadata": {},
   "source": [
    "### Parallelised Monte Carlo Simulation of Markov Model in Health Economics"
   ]
  },
  {
   "cell_type": "markdown",
   "id": "95595c24-dfb0-4c39-ba38-041c3c3215a2",
   "metadata": {},
   "source": [
    "### Import the required Libraries"
   ]
  },
  {
   "cell_type": "code",
   "execution_count": 1,
   "id": "08018c74-03b4-45d5-afee-134da0fdd8d1",
   "metadata": {},
   "outputs": [],
   "source": [
    "import numpy as np\n",
    "import matplotlib.pyplot as plt\n",
    "import concurrent.futures"
   ]
  },
  {
   "cell_type": "markdown",
   "id": "a7e529bb-6488-4a15-876a-58e7db2389cd",
   "metadata": {},
   "source": [
    "### Define the MarkovModel Class"
   ]
  },
  {
   "cell_type": "code",
   "execution_count": 2,
   "id": "ab032eca-4217-49ed-905f-7a1b1f02e19c",
   "metadata": {},
   "outputs": [],
   "source": [
    "class MarkovModel:\n",
    "    def __init__(self, transition_matrix, costs):\n",
    "        self.transition_matrix = transition_matrix\n",
    "        self.states = [0] * len(self.transition_matrix)\n",
    "        self.states[0] = 300000  # Population with the combination of factors\n",
    "        self.total_cost = 0\n",
    "        self.insurance_premium = 135 # Monthly insurance premium\n",
    "        \n",
    "    def run_simulation(self, cycles):\n",
    "        self.costs_over_time = []  \n",
    "        \n",
    "        for cycle in range(cycles):\n",
    "            next_states = [0] * len(self.transition_matrix)\n",
    "            \n",
    "            for i, prob in enumerate(self.transition_matrix):\n",
    "                transitions = np.random.multinomial(self.states[i], prob)\n",
    "                for j, count in enumerate(transitions):\n",
    "                    next_states[j] += count\n",
    "            \n",
    "            next_states[0] += np.random.poisson(10000) # Simulate people being diagnosed with the disease over time i.e. prevalence (to account for people leaving the system by death)\n",
    "            \n",
    "            self.total_cost += sum([state * cost for state, cost in zip(self.states, costs)])\n",
    "            total_premiums = sum(self.states[:-1]) * self.insurance_premium  \n",
    "            self.total_cost -= total_premiums\n",
    "            \n",
    "            self.states = next_states\n",
    "            \n",
    "            self.costs_over_time.append(self.total_cost)\n",
    "            \n",
    "            self.insurance_premium *= 1.05 # Assume that the insurance premium increases by 5% per year\n"
   ]
  },
  {
   "cell_type": "markdown",
   "id": "289ddaa1-8f71-4bea-aa0b-133299981fd0",
   "metadata": {},
   "source": [
    "### Set-up the Transition Matrix"
   ]
  },
  {
   "cell_type": "code",
   "execution_count": 3,
   "id": "8861ed4e-0274-4439-a815-6844165553fd",
   "metadata": {
    "editable": true,
    "slideshow": {
     "slide_type": ""
    },
    "tags": []
   },
   "outputs": [],
   "source": [
    "# Adding costs for the new states\n",
    "costs = [0, 50, 0, 1000, 5000, 0, 0, 0]  # Costs per state in the Markov Model.\n",
    "\n",
    "def get_transition_matrix_A(p_adverse1, p_adverse2):\n",
    "    p_death = 0.01 # probability of death set to 1%\n",
    "    p_stay = 1 - (p_death + p_adverse1 + p_adverse2) # probability of staing in a particular state adjusted for the te\n",
    "    \n",
    "    return [\n",
    "        [0, p_stay, 0, p_adverse1, p_adverse2, p_death],\n",
    "        [0, 0.87 - (0.05 * 2), 0, 0.05 * 3, 0.05, 0.03],\n",
    "        [0, 0, 0.82 - (0.08 + 0.07), 0.08 * 2, 0.07 * 2, 0.03],\n",
    "        [0, 0.9, 0, 0.1, 0, 0],\n",
    "        [0, 0.7, 0, 0, 0.3, 0],\n",
    "        [0, 0, 0, 0, 0, 1],\n",
    "    ]\n",
    "\n",
    "def get_transition_matrix_B(p_adverse1, p_adverse2):\n",
    "    p_death = 0.01\n",
    "    p_stay = 1 - (p_death + p_adverse1 + p_adverse2)\n",
    "    \n",
    "    return [\n",
    "        [0,  p_stay, 0, p_adverse1, p_adverse2, p_death],\n",
    "        [0, 0.87 - (0.05 * 2), 0, 0.05 * 3, 0.05, 0.03],\n",
    "        [0, 0, 0.82 - (0.08 + 0.07), 0.08 * 2, 0.07 * 2, 0.03],\n",
    "        [0, 0.9, 0, 0.1, 0, 0],\n",
    "        [0, 0.7, 0, 0, 0.3, 0],\n",
    "        [0, 0, 0, 0, 0, 1],\n",
    "    ]"
   ]
  },
  {
   "cell_type": "markdown",
   "id": "a55e6da1-161b-4624-9d86-18d1daf021ae",
   "metadata": {
    "editable": true,
    "slideshow": {
     "slide_type": ""
    },
    "tags": []
   },
   "source": [
    "### Simulation Functions"
   ]
  },
  {
   "cell_type": "code",
   "execution_count": 11,
   "id": "e3465ab6-c076-4869-85e6-c8ce37713d39",
   "metadata": {},
   "outputs": [],
   "source": [
    "def simulate_treatment_A_chunk(chunk_size):\n",
    "    results = []\n",
    "    for _ in range(chunk_size):\n",
    "        # [Initialize and run model_A within this scope]\n",
    "        # Generate random probabilities for adverse events specific to Treatment A\n",
    "        p_adverse1_A_var = np.clip(np.random.normal(0.00131, 0.0005), 0, 1)\n",
    "        p_adverse2_A_var = np.clip(np.random.normal(0.0212, 0.0005), 0, 1)\n",
    "\n",
    "        # Generate a custom transition matrix for Treatment A based on the probabilities\n",
    "        transition_A_var = get_transition_matrix_A(p_adverse1_A_var, p_adverse2_A_var)\n",
    "        \n",
    "        # Create a MarkovModel instance for Treatment A and run a simulation for 20 years\n",
    "        model_A = MarkovModel(transition_A_var, costs)\n",
    "        model_A.run_simulation(20)\n",
    "        \n",
    "        # Append the final cost from the simulation to the results list\n",
    "        results.append(model_A.costs_over_time[-1])\n",
    "    return results\n",
    "\n",
    "def simulate_treatment_B_chunk(chunk_size):\n",
    "    results = []\n",
    "    for _ in range(chunk_size):\n",
    "        # [Initialize and run model_B within this scope]\n",
    "        # Generate random probabilities for adverse events specific to Treatment B\n",
    "        p_adverse1_B_var = np.clip(np.random.normal(0.0123, 0.0005), 0, 1)\n",
    "        p_adverse2_B_var = np.clip(np.random.normal(0.0323, 0.0005), 0, 1)\n",
    "\n",
    "        # Generate a custom transition matrix for Treatment B based on the probabilities\n",
    "        transition_B_var = get_transition_matrix_B(p_adverse1_B_var, p_adverse2_B_var)\n",
    "        \n",
    "        # Create a MarkovModel instance for Treatment B and run a simulation for 20 years\n",
    "        model_B = MarkovModel(transition_B_var, costs)\n",
    "        model_B.run_simulation(20)\n",
    "        \n",
    "        # Append the final cost from the simulation to the results list\n",
    "        results.append(model_B.costs_over_time[-1])\n",
    "    return results\n",
    "\n",
    "N_SIMULATIONS = 50000000  # Adjust based on your requirements\n",
    "CHUNK_SIZE = 10000  # Adjust based on your requirements\n",
    "\n",
    "# Use concurrent processing to run simulations in parallel\n",
    "\n",
    "with concurrent.futures.ProcessPoolExecutor(max_workers=64) as executor:\n",
    "    future_results_A = [executor.submit(simulate_treatment_A_chunk, CHUNK_SIZE) for _ in range(N_SIMULATIONS // CHUNK_SIZE)]\n",
    "    future_results_B = [executor.submit(simulate_treatment_B_chunk, CHUNK_SIZE) for _ in range(N_SIMULATIONS // CHUNK_SIZE)]\n",
    "    \n",
    "    results_A = [result for future in future_results_A for result in future.result()]\n",
    "    results_B = [result for future in future_results_B for result in future.result()]"
   ]
  },
  {
   "cell_type": "code",
   "execution_count": 12,
   "id": "306ab7b7-e974-4884-afec-ef6e9a5b0985",
   "metadata": {
    "editable": true,
    "slideshow": {
     "slide_type": ""
    },
    "tags": []
   },
   "outputs": [
    {
     "data": {
      "image/png": "[encoded data removed]",
      "text/plain": [
       "<Figure size 640x480 with 1 Axes>"
      ]
     },
     "metadata": {},
     "output_type": "display_data"
    },
    {
     "name": "stdout",
     "output_type": "stream",
     "text": [
      "Average cost for Treatment A: €1.24 billion\n",
      "Average cost for Treatment B: €1.27 billion\n"
     ]
    }
   ],
   "source": [
    "# Visualizing Results\n",
    "plt.hist(results_A, bins=50, alpha=0.5, label=\"Treatment A\", color='blue')\n",
    "plt.hist(results_B, bins=50, alpha=0.5, label=\"Treatment B\", color='red')\n",
    "plt.xlabel(\"Total Cost\")\n",
    "plt.ylabel(\"Number of Simulations\")\n",
    "plt.title(\"Distribution of Total Costs over 20 Cycles (Monte Carlo Simulation)\")\n",
    "plt.legend()\n",
    "plt.show()\n",
    "\n",
    "print(f\"Average cost for Treatment A: €{np.mean(results_A)/1e9:,.2f} billion\")\n",
    "print(f\"Average cost for Treatment B: €{np.mean(results_B)/1e9:,.2f} billion\")"
   ]
  },
  {
   "cell_type": "code",
   "execution_count": null,
   "id": "14a422ed-515d-46b0-8643-d00fc0bb2b84",
   "metadata": {
    "editable": true,
    "slideshow": {
     "slide_type": ""
    },
    "tags": []
   },
   "outputs": [],
   "source": []
  }
 ],
 "metadata": {
  "kernelspec": {
   "display_name": "Python 3 (ipykernel)",
   "language": "python",
   "name": "python3"
  },
  "language_info": {
   "codemirror_mode": {
    "name": "ipython",
    "version": 3
   },
   "file_extension": ".py",
   "mimetype": "text/x-python",
   "name": "python",
   "nbconvert_exporter": "python",
   "pygments_lexer": "ipython3",
   "version": "3.10.10"
  }
 },
 "nbformat": 4,
 "nbformat_minor": 5
}
